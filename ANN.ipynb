{
  "nbformat": 4,
  "nbformat_minor": 0,
  "metadata": {
    "kernelspec": {
      "display_name": "Python 3",
      "language": "python",
      "name": "python3"
    },
    "language_info": {
      "codemirror_mode": {
        "name": "ipython",
        "version": 3
      },
      "file_extension": ".py",
      "mimetype": "text/x-python",
      "name": "python",
      "nbconvert_exporter": "python",
      "pygments_lexer": "ipython3",
      "version": "3.8.8"
    },
    "colab": {
      "name": "Copy of time-series-analysis-artificial-neural-networks.ipynb",
      "provenance": [],
      "collapsed_sections": [
        "gCxkxMAKZVNq"
      ]
    }
  },
  "cells": [
    {
      "cell_type": "markdown",
      "metadata": {
        "_uuid": "3de5867c3dff51e4d9603e5a253d1a3e40a0bbd6",
        "id": "69ZTCd2TZVNa"
      },
      "source": [
        "## Import libraries"
      ]
    },
    {
      "cell_type": "code",
      "metadata": {
        "id": "A38Mg300SCHy"
      },
      "source": [
        "import pandas_datareader.data as web"
      ],
      "execution_count": 1,
      "outputs": []
    },
    {
      "cell_type": "code",
      "metadata": {
        "id": "ev4U0n6WTFQ6"
      },
      "source": [
        "pip install yfinance"
      ],
      "execution_count": null,
      "outputs": []
    },
    {
      "cell_type": "code",
      "metadata": {
        "id": "BZxSEV8FTWAw"
      },
      "source": [
        "from pandas_datareader import data as pdr\n",
        "import yfinance as yf\n",
        "\n",
        "yf.pdr_override()"
      ],
      "execution_count": 3,
      "outputs": []
    },
    {
      "cell_type": "code",
      "metadata": {
        "colab": {
          "base_uri": "https://localhost:8080/",
          "height": 473
        },
        "id": "-6nqvQSrSCKX",
        "outputId": "eecfd816-9813-4af5-9487-eb93d3b87592"
      },
      "source": [
        "dt_start = '2015-08-07'\n",
        "dt_end   = '2021-12-04'\n",
        "ETH = pdr.get_data_yahoo('ETH-USD', start = dt_start, end = dt_end)\n",
        "ETH"
      ],
      "execution_count": 4,
      "outputs": [
        {
          "output_type": "stream",
          "name": "stdout",
          "text": [
            "\r[*********************100%***********************]  1 of 1 completed\n"
          ]
        },
        {
          "output_type": "execute_result",
          "data": {
            "text/html": [
              "<div>\n",
              "<style scoped>\n",
              "    .dataframe tbody tr th:only-of-type {\n",
              "        vertical-align: middle;\n",
              "    }\n",
              "\n",
              "    .dataframe tbody tr th {\n",
              "        vertical-align: top;\n",
              "    }\n",
              "\n",
              "    .dataframe thead th {\n",
              "        text-align: right;\n",
              "    }\n",
              "</style>\n",
              "<table border=\"1\" class=\"dataframe\">\n",
              "  <thead>\n",
              "    <tr style=\"text-align: right;\">\n",
              "      <th></th>\n",
              "      <th>Open</th>\n",
              "      <th>High</th>\n",
              "      <th>Low</th>\n",
              "      <th>Close</th>\n",
              "      <th>Adj Close</th>\n",
              "      <th>Volume</th>\n",
              "    </tr>\n",
              "    <tr>\n",
              "      <th>Date</th>\n",
              "      <th></th>\n",
              "      <th></th>\n",
              "      <th></th>\n",
              "      <th></th>\n",
              "      <th></th>\n",
              "      <th></th>\n",
              "    </tr>\n",
              "  </thead>\n",
              "  <tbody>\n",
              "    <tr>\n",
              "      <td>2015-08-07</td>\n",
              "      <td>2.831620</td>\n",
              "      <td>3.536610</td>\n",
              "      <td>2.521120</td>\n",
              "      <td>2.772120</td>\n",
              "      <td>2.772120</td>\n",
              "      <td>164329</td>\n",
              "    </tr>\n",
              "    <tr>\n",
              "      <td>2015-08-08</td>\n",
              "      <td>2.793760</td>\n",
              "      <td>2.798810</td>\n",
              "      <td>0.714725</td>\n",
              "      <td>0.753325</td>\n",
              "      <td>0.753325</td>\n",
              "      <td>674188</td>\n",
              "    </tr>\n",
              "    <tr>\n",
              "      <td>2015-08-09</td>\n",
              "      <td>0.706136</td>\n",
              "      <td>0.879810</td>\n",
              "      <td>0.629191</td>\n",
              "      <td>0.701897</td>\n",
              "      <td>0.701897</td>\n",
              "      <td>532170</td>\n",
              "    </tr>\n",
              "    <tr>\n",
              "      <td>2015-08-10</td>\n",
              "      <td>0.713989</td>\n",
              "      <td>0.729854</td>\n",
              "      <td>0.636546</td>\n",
              "      <td>0.708448</td>\n",
              "      <td>0.708448</td>\n",
              "      <td>405283</td>\n",
              "    </tr>\n",
              "    <tr>\n",
              "      <td>2015-08-11</td>\n",
              "      <td>0.708087</td>\n",
              "      <td>1.131410</td>\n",
              "      <td>0.663235</td>\n",
              "      <td>1.067860</td>\n",
              "      <td>1.067860</td>\n",
              "      <td>1463100</td>\n",
              "    </tr>\n",
              "    <tr>\n",
              "      <td>...</td>\n",
              "      <td>...</td>\n",
              "      <td>...</td>\n",
              "      <td>...</td>\n",
              "      <td>...</td>\n",
              "      <td>...</td>\n",
              "      <td>...</td>\n",
              "    </tr>\n",
              "    <tr>\n",
              "      <td>2021-11-30</td>\n",
              "      <td>4447.768066</td>\n",
              "      <td>4753.266113</td>\n",
              "      <td>4358.074219</td>\n",
              "      <td>4631.479004</td>\n",
              "      <td>4631.479004</td>\n",
              "      <td>28626354111</td>\n",
              "    </tr>\n",
              "    <tr>\n",
              "      <td>2021-12-01</td>\n",
              "      <td>4623.679688</td>\n",
              "      <td>4780.732422</td>\n",
              "      <td>4530.272461</td>\n",
              "      <td>4586.990234</td>\n",
              "      <td>4586.990234</td>\n",
              "      <td>27634826695</td>\n",
              "    </tr>\n",
              "    <tr>\n",
              "      <td>2021-12-02</td>\n",
              "      <td>4586.333008</td>\n",
              "      <td>4628.919922</td>\n",
              "      <td>4441.507812</td>\n",
              "      <td>4511.302246</td>\n",
              "      <td>4511.302246</td>\n",
              "      <td>21502671027</td>\n",
              "    </tr>\n",
              "    <tr>\n",
              "      <td>2021-12-03</td>\n",
              "      <td>4514.355957</td>\n",
              "      <td>4647.289062</td>\n",
              "      <td>4100.145508</td>\n",
              "      <td>4220.706055</td>\n",
              "      <td>4220.706055</td>\n",
              "      <td>25879591528</td>\n",
              "    </tr>\n",
              "    <tr>\n",
              "      <td>2021-12-04</td>\n",
              "      <td>4227.762207</td>\n",
              "      <td>4242.725586</td>\n",
              "      <td>3525.494141</td>\n",
              "      <td>4119.587402</td>\n",
              "      <td>4119.587402</td>\n",
              "      <td>38478999182</td>\n",
              "    </tr>\n",
              "  </tbody>\n",
              "</table>\n",
              "<p>2308 rows × 6 columns</p>\n",
              "</div>"
            ],
            "text/plain": [
              "                   Open         High  ...    Adj Close       Volume\n",
              "Date                                  ...                          \n",
              "2015-08-07     2.831620     3.536610  ...     2.772120       164329\n",
              "2015-08-08     2.793760     2.798810  ...     0.753325       674188\n",
              "2015-08-09     0.706136     0.879810  ...     0.701897       532170\n",
              "2015-08-10     0.713989     0.729854  ...     0.708448       405283\n",
              "2015-08-11     0.708087     1.131410  ...     1.067860      1463100\n",
              "...                 ...          ...  ...          ...          ...\n",
              "2021-11-30  4447.768066  4753.266113  ...  4631.479004  28626354111\n",
              "2021-12-01  4623.679688  4780.732422  ...  4586.990234  27634826695\n",
              "2021-12-02  4586.333008  4628.919922  ...  4511.302246  21502671027\n",
              "2021-12-03  4514.355957  4647.289062  ...  4220.706055  25879591528\n",
              "2021-12-04  4227.762207  4242.725586  ...  4119.587402  38478999182\n",
              "\n",
              "[2308 rows x 6 columns]"
            ]
          },
          "metadata": {},
          "execution_count": 4
        }
      ]
    },
    {
      "cell_type": "code",
      "metadata": {
        "colab": {
          "base_uri": "https://localhost:8080/"
        },
        "id": "d0inFZ-NZW1I",
        "outputId": "ccf10d3b-2e4c-46b3-ab89-5469d472a49a"
      },
      "source": [
        "pip install pandas==0.25.1"
      ],
      "execution_count": 5,
      "outputs": [
        {
          "output_type": "stream",
          "name": "stdout",
          "text": [
            "Requirement already satisfied: pandas==0.25.1 in /usr/local/lib/python3.7/dist-packages (0.25.1)\n",
            "Requirement already satisfied: python-dateutil>=2.6.1 in /usr/local/lib/python3.7/dist-packages (from pandas==0.25.1) (2.8.2)\n",
            "Requirement already satisfied: pytz>=2017.2 in /usr/local/lib/python3.7/dist-packages (from pandas==0.25.1) (2018.9)\n",
            "Requirement already satisfied: numpy>=1.13.3 in /usr/local/lib/python3.7/dist-packages (from pandas==0.25.1) (1.19.5)\n",
            "Requirement already satisfied: six>=1.5 in /usr/local/lib/python3.7/dist-packages (from python-dateutil>=2.6.1->pandas==0.25.1) (1.15.0)\n"
          ]
        }
      ]
    },
    {
      "cell_type": "code",
      "metadata": {
        "_uuid": "346c63b57c283263e634064454180f52cbb50136",
        "id": "XbUGrafaZVNa"
      },
      "source": [
        "import numpy as np\n",
        "import pandas as pd\n",
        "\n",
        "import matplotlib.pyplot as plt\n",
        "%matplotlib inline\n",
        "\n",
        "import math\n",
        "from keras.models import Sequential\n",
        "from keras.layers import Dense\n",
        "from keras.layers import LSTM\n",
        "from sklearn.preprocessing import MinMaxScaler\n",
        "from sklearn.metrics import mean_squared_error\n",
        "from sklearn.metrics import mean_absolute_error\n",
        "\n",
        "from IPython.display import SVG\n",
        "from keras.utils.vis_utils import model_to_dot\n",
        "\n",
        "import itertools\n",
        "import warnings\n",
        "warnings.filterwarnings('ignore')"
      ],
      "execution_count": 6,
      "outputs": []
    },
    {
      "cell_type": "code",
      "metadata": {
        "colab": {
          "base_uri": "https://localhost:8080/",
          "height": 455
        },
        "id": "RuvNnGNMZVNc",
        "outputId": "1dc70f25-ae62-4bc4-9d68-74a654055b5b"
      },
      "source": [
        "data_ETH = ETH.drop(columns=['Open', 'High','Low','Close','Volume'])\n",
        "data_ETH = data_ETH.rename({'Adj Close': 'Adj_Close'}, axis=1)\n",
        "data_ETH"
      ],
      "execution_count": 33,
      "outputs": [
        {
          "output_type": "execute_result",
          "data": {
            "text/html": [
              "<div>\n",
              "<style scoped>\n",
              "    .dataframe tbody tr th:only-of-type {\n",
              "        vertical-align: middle;\n",
              "    }\n",
              "\n",
              "    .dataframe tbody tr th {\n",
              "        vertical-align: top;\n",
              "    }\n",
              "\n",
              "    .dataframe thead th {\n",
              "        text-align: right;\n",
              "    }\n",
              "</style>\n",
              "<table border=\"1\" class=\"dataframe\">\n",
              "  <thead>\n",
              "    <tr style=\"text-align: right;\">\n",
              "      <th></th>\n",
              "      <th>Adj_Close</th>\n",
              "    </tr>\n",
              "    <tr>\n",
              "      <th>Date</th>\n",
              "      <th></th>\n",
              "    </tr>\n",
              "  </thead>\n",
              "  <tbody>\n",
              "    <tr>\n",
              "      <td>2015-08-07</td>\n",
              "      <td>2.772120</td>\n",
              "    </tr>\n",
              "    <tr>\n",
              "      <td>2015-08-08</td>\n",
              "      <td>0.753325</td>\n",
              "    </tr>\n",
              "    <tr>\n",
              "      <td>2015-08-09</td>\n",
              "      <td>0.701897</td>\n",
              "    </tr>\n",
              "    <tr>\n",
              "      <td>2015-08-10</td>\n",
              "      <td>0.708448</td>\n",
              "    </tr>\n",
              "    <tr>\n",
              "      <td>2015-08-11</td>\n",
              "      <td>1.067860</td>\n",
              "    </tr>\n",
              "    <tr>\n",
              "      <td>...</td>\n",
              "      <td>...</td>\n",
              "    </tr>\n",
              "    <tr>\n",
              "      <td>2021-11-30</td>\n",
              "      <td>4631.479004</td>\n",
              "    </tr>\n",
              "    <tr>\n",
              "      <td>2021-12-01</td>\n",
              "      <td>4586.990234</td>\n",
              "    </tr>\n",
              "    <tr>\n",
              "      <td>2021-12-02</td>\n",
              "      <td>4511.302246</td>\n",
              "    </tr>\n",
              "    <tr>\n",
              "      <td>2021-12-03</td>\n",
              "      <td>4220.706055</td>\n",
              "    </tr>\n",
              "    <tr>\n",
              "      <td>2021-12-04</td>\n",
              "      <td>4119.587402</td>\n",
              "    </tr>\n",
              "  </tbody>\n",
              "</table>\n",
              "<p>2308 rows × 1 columns</p>\n",
              "</div>"
            ],
            "text/plain": [
              "              Adj_Close\n",
              "Date                   \n",
              "2015-08-07     2.772120\n",
              "2015-08-08     0.753325\n",
              "2015-08-09     0.701897\n",
              "2015-08-10     0.708448\n",
              "2015-08-11     1.067860\n",
              "...                 ...\n",
              "2021-11-30  4631.479004\n",
              "2021-12-01  4586.990234\n",
              "2021-12-02  4511.302246\n",
              "2021-12-03  4220.706055\n",
              "2021-12-04  4119.587402\n",
              "\n",
              "[2308 rows x 1 columns]"
            ]
          },
          "metadata": {},
          "execution_count": 33
        }
      ]
    },
    {
      "cell_type": "code",
      "metadata": {
        "_uuid": "9093778a6bef6ed88d54392a01e70ac5817df3dd",
        "colab": {
          "base_uri": "https://localhost:8080/"
        },
        "id": "EoR2hJ7DZVNd",
        "outputId": "b0ddb35f-ee13-489e-9c28-5c72c9e6f58b"
      },
      "source": [
        "data_ETH.shape"
      ],
      "execution_count": 55,
      "outputs": [
        {
          "output_type": "execute_result",
          "data": {
            "text/plain": [
              "(2308, 1)"
            ]
          },
          "metadata": {},
          "execution_count": 55
        }
      ]
    },
    {
      "cell_type": "code",
      "metadata": {
        "id": "mpnFiJsDZVNd"
      },
      "source": [
        "data_test = data_ETH.ix[1730: ]\n",
        "data_train = data_ETH.ix[: 1730]"
      ],
      "execution_count": 56,
      "outputs": []
    },
    {
      "cell_type": "code",
      "metadata": {
        "colab": {
          "base_uri": "https://localhost:8080/"
        },
        "id": "S73f8qOtZVNd",
        "outputId": "82ca59ca-9dce-45a4-944f-65003e49745a"
      },
      "source": [
        "data_train.shape"
      ],
      "execution_count": 57,
      "outputs": [
        {
          "output_type": "execute_result",
          "data": {
            "text/plain": [
              "(1730, 1)"
            ]
          },
          "metadata": {},
          "execution_count": 57
        }
      ]
    },
    {
      "cell_type": "code",
      "metadata": {
        "_uuid": "c2c6bab7f37106d90da592897937445e48d09625",
        "colab": {
          "base_uri": "https://localhost:8080/"
        },
        "id": "Rd-ZFHPUZVNe",
        "outputId": "bb5dd2b9-938c-4245-c6f0-af87c5ab0995"
      },
      "source": [
        "data_test.shape"
      ],
      "execution_count": 58,
      "outputs": [
        {
          "output_type": "execute_result",
          "data": {
            "text/plain": [
              "(578, 1)"
            ]
          },
          "metadata": {},
          "execution_count": 58
        }
      ]
    },
    {
      "cell_type": "code",
      "metadata": {
        "_uuid": "fb9b492a8803d8c47b906ed6800403d248944d3b",
        "colab": {
          "base_uri": "https://localhost:8080/"
        },
        "id": "aM6iVfwIZVNe",
        "outputId": "e0b77e4a-2e7d-4bec-abf6-c0aa0f16a200"
      },
      "source": [
        "scaler = MinMaxScaler(feature_range=(0, 1))\n",
        "scaler.fit(data_train)"
      ],
      "execution_count": 59,
      "outputs": [
        {
          "output_type": "execute_result",
          "data": {
            "text/plain": [
              "MinMaxScaler()"
            ]
          },
          "metadata": {},
          "execution_count": 59
        }
      ]
    },
    {
      "cell_type": "code",
      "metadata": {
        "colab": {
          "base_uri": "https://localhost:8080/",
          "height": 455
        },
        "id": "lyvpD1WNae2v",
        "outputId": "059de17e-b5e0-4e56-a584-3c87ed4dcdb9"
      },
      "source": [
        "data_train"
      ],
      "execution_count": 60,
      "outputs": [
        {
          "output_type": "execute_result",
          "data": {
            "text/html": [
              "<div>\n",
              "<style scoped>\n",
              "    .dataframe tbody tr th:only-of-type {\n",
              "        vertical-align: middle;\n",
              "    }\n",
              "\n",
              "    .dataframe tbody tr th {\n",
              "        vertical-align: top;\n",
              "    }\n",
              "\n",
              "    .dataframe thead th {\n",
              "        text-align: right;\n",
              "    }\n",
              "</style>\n",
              "<table border=\"1\" class=\"dataframe\">\n",
              "  <thead>\n",
              "    <tr style=\"text-align: right;\">\n",
              "      <th></th>\n",
              "      <th>Adj_Close</th>\n",
              "    </tr>\n",
              "    <tr>\n",
              "      <th>Date</th>\n",
              "      <th></th>\n",
              "    </tr>\n",
              "  </thead>\n",
              "  <tbody>\n",
              "    <tr>\n",
              "      <td>2015-08-07</td>\n",
              "      <td>2.772120</td>\n",
              "    </tr>\n",
              "    <tr>\n",
              "      <td>2015-08-08</td>\n",
              "      <td>0.753325</td>\n",
              "    </tr>\n",
              "    <tr>\n",
              "      <td>2015-08-09</td>\n",
              "      <td>0.701897</td>\n",
              "    </tr>\n",
              "    <tr>\n",
              "      <td>2015-08-10</td>\n",
              "      <td>0.708448</td>\n",
              "    </tr>\n",
              "    <tr>\n",
              "      <td>2015-08-11</td>\n",
              "      <td>1.067860</td>\n",
              "    </tr>\n",
              "    <tr>\n",
              "      <td>...</td>\n",
              "      <td>...</td>\n",
              "    </tr>\n",
              "    <tr>\n",
              "      <td>2020-04-28</td>\n",
              "      <td>198.415390</td>\n",
              "    </tr>\n",
              "    <tr>\n",
              "      <td>2020-04-29</td>\n",
              "      <td>216.968231</td>\n",
              "    </tr>\n",
              "    <tr>\n",
              "      <td>2020-04-30</td>\n",
              "      <td>207.602051</td>\n",
              "    </tr>\n",
              "    <tr>\n",
              "      <td>2020-05-01</td>\n",
              "      <td>214.219101</td>\n",
              "    </tr>\n",
              "    <tr>\n",
              "      <td>2020-05-02</td>\n",
              "      <td>215.325378</td>\n",
              "    </tr>\n",
              "  </tbody>\n",
              "</table>\n",
              "<p>1730 rows × 1 columns</p>\n",
              "</div>"
            ],
            "text/plain": [
              "             Adj_Close\n",
              "Date                  \n",
              "2015-08-07    2.772120\n",
              "2015-08-08    0.753325\n",
              "2015-08-09    0.701897\n",
              "2015-08-10    0.708448\n",
              "2015-08-11    1.067860\n",
              "...                ...\n",
              "2020-04-28  198.415390\n",
              "2020-04-29  216.968231\n",
              "2020-04-30  207.602051\n",
              "2020-05-01  214.219101\n",
              "2020-05-02  215.325378\n",
              "\n",
              "[1730 rows x 1 columns]"
            ]
          },
          "metadata": {},
          "execution_count": 60
        }
      ]
    },
    {
      "cell_type": "markdown",
      "metadata": {
        "_uuid": "b3f9775a7768ac306096968756a9e032bbca63a4",
        "id": "eSuPMdd6ZVNf"
      },
      "source": [
        "### Functions required"
      ]
    },
    {
      "cell_type": "code",
      "metadata": {
        "_uuid": "1737672adf075132c6fc226e4039d611e8621a49",
        "id": "qtD9NAMnZVNf"
      },
      "source": [
        "def mean_absolute_percentage_error(y_true, y_pred): \n",
        "    y_true, y_pred = np.array(y_true), np.array(y_pred)\n",
        "    return np.mean(np.abs((y_true - y_pred) / y_true)) * 100\n",
        "\n",
        "def root_mean_squared_error(y_true, y_pred):\n",
        "    mse = mean_squared_error(y_true, y_pred)\n",
        "    rmse = np.sqrt(mse)\n",
        "    return rmse"
      ],
      "execution_count": 20,
      "outputs": []
    },
    {
      "cell_type": "code",
      "metadata": {
        "_uuid": "a89b8c54e30c3ea627d8e86eca00ffe91ff46ba5",
        "id": "aYhkzrZoZVNf"
      },
      "source": [
        "def calculate_performance(y_true, y_pred):\n",
        "    mse = mean_squared_error(y_true, y_pred)\n",
        "    mae = mean_absolute_error(y_true, y_pred)\n",
        "    mape = mean_absolute_percentage_error(y_true, y_pred)\n",
        "    rmse = root_mean_squared_error(y_true, y_pred)\n",
        "    return round(mse, 3), round(mae, 3), round(mape, 3), round(rmse, 3)"
      ],
      "execution_count": 21,
      "outputs": []
    },
    {
      "cell_type": "code",
      "metadata": {
        "_uuid": "bbec9b34f651ed95fa296492aacb0ebe182b04e2",
        "id": "HBHA0pLgZVNg"
      },
      "source": [
        "def plot_keras_model(model, show_shapes=True, show_layer_names=True):\n",
        "    return SVG(model_to_dot(model, show_shapes=show_shapes, show_layer_names=show_layer_names).create(prog='dot',format='svg'))"
      ],
      "execution_count": 22,
      "outputs": []
    },
    {
      "cell_type": "code",
      "metadata": {
        "_uuid": "6eee815513ca31c8bb63f4b17c895c84e5942d9d",
        "id": "sk4Qw-J7ZVNg"
      },
      "source": [
        "def get_combinations(parameters):\n",
        "    return list(itertools.product(*parameters))"
      ],
      "execution_count": 23,
      "outputs": []
    },
    {
      "cell_type": "markdown",
      "metadata": {
        "_uuid": "16dedf1923e223c70329ec24985604b366666254",
        "id": "29RVSyiRZVNg"
      },
      "source": [
        "### Create a Neural Network"
      ]
    },
    {
      "cell_type": "code",
      "metadata": {
        "_uuid": "68608a6bf85a21465a9e194e0b50f15bf3fe0045",
        "id": "0iE3PNqRZVNg"
      },
      "source": [
        "def create_NN(input_nodes, hidden_nodes, output_nodes):\n",
        "    model = Sequential()\n",
        "    model.add(Dense(int(hidden_nodes), input_dim=int(input_nodes)))\n",
        "    model.add(Dense(int(output_nodes)))\n",
        "    model.compile(loss='mean_squared_error', optimizer='adam')\n",
        "    return model"
      ],
      "execution_count": 24,
      "outputs": []
    },
    {
      "cell_type": "markdown",
      "metadata": {
        "_uuid": "52e8ab76b946efc286927de406cfd13c5fe6a089",
        "id": "H7yseEl1ZVNh"
      },
      "source": [
        "### Train model"
      ]
    },
    {
      "cell_type": "code",
      "metadata": {
        "_uuid": "1cf7890aacdbb401da985ec370b6a51fd95476d3",
        "id": "vGjQXSjwZVNh"
      },
      "source": [
        "def train_model(model, X_train, y_train, epochs, batch_size):\n",
        "    model.fit(X_train, y_train, epochs=epochs, batch_size=batch_size, verbose=0, shuffle=True)\n",
        "    return model"
      ],
      "execution_count": 25,
      "outputs": []
    },
    {
      "cell_type": "code",
      "metadata": {
        "_uuid": "2aa2ccee9882986b169621bdfc6a46c00030ed97",
        "id": "izBmvn4AZVNh"
      },
      "source": [
        "def reshape_arrays(X_train, y_train):\n",
        "    X_train = np.array(X_train)\n",
        "    y_train = np.reshape(y_train, (len(y_train), 1))\n",
        "    return X_train, y_train"
      ],
      "execution_count": 26,
      "outputs": []
    },
    {
      "cell_type": "markdown",
      "metadata": {
        "_uuid": "077c878328bf0ad279ebc9d889c6bef881d28cd0",
        "id": "fC8le9_dZVNh"
      },
      "source": [
        "- Here, the output(y_t) depends on the previous 'p' time steps.\n",
        "- So, the output layer consists of one unit and input layer layer consists of p units.\n",
        "- We need to train the model with different number of units in all layers and select the parameters that gives the low RMSE score on test data."
      ]
    },
    {
      "cell_type": "markdown",
      "metadata": {
        "_uuid": "208b674bbe78aef0851c52ab8201c21675816124",
        "id": "xdliAU9AZVNi"
      },
      "source": [
        "### FNN - Preprocess data: Convert time series into suitable format"
      ]
    },
    {
      "cell_type": "code",
      "metadata": {
        "_uuid": "c4bcf733061d7998317d18898bbead94ed911e26",
        "id": "_DVitMl6ZVNi"
      },
      "source": [
        "def preprocess_FNN(data, look_back):\n",
        "    data = np.array(data)[:, 0]\n",
        "    X_train = []\n",
        "    y_train = []\n",
        "    for i in range(data.shape[0]-look_back):\n",
        "        x = data[i:look_back+i][::-1]\n",
        "        y = data[look_back+i]\n",
        "        X_train.append(list(x))\n",
        "        y_train.append(y)\n",
        "    input_seq_for_test = data[i+1:look_back+i+1][::-1]\n",
        "    return X_train, y_train, input_seq_for_test"
      ],
      "execution_count": 27,
      "outputs": []
    },
    {
      "cell_type": "markdown",
      "metadata": {
        "_uuid": "232390d96ba6aaf0a5729506e38380348dbf4923",
        "id": "6LlB9XZEZVNi"
      },
      "source": [
        "### FNN - Forecast next 'n' timesteps"
      ]
    },
    {
      "cell_type": "code",
      "metadata": {
        "_uuid": "af833e7ee482f40a4b3e16fcd283d388577b5898",
        "id": "-EmwLfX1ZVNi"
      },
      "source": [
        "def forecast_FNN(model, input_sequence, future_steps):\n",
        "    forecasted_values = []\n",
        "    for i in range(future_steps):\n",
        "        forecasted_value = model.predict(input_sequence)\n",
        "        forecasted_values.append(forecasted_value[0][0])\n",
        "        input_sequence[0] = np.append(forecasted_value, input_sequence[0][:-1])\n",
        "    return forecasted_values"
      ],
      "execution_count": 28,
      "outputs": []
    },
    {
      "cell_type": "markdown",
      "metadata": {
        "_uuid": "83a0df549201c0fd6bd6a663e1422111e4f0c202",
        "id": "UWCJUd9AZVNi"
      },
      "source": [
        "### Feed forward Network"
      ]
    },
    {
      "cell_type": "code",
      "metadata": {
        "_uuid": "b04b69059067850ceb9b98c24982a4bc7ba93902",
        "id": "t2ySM2PvZVNi"
      },
      "source": [
        "def FNN(data, look_back, hidden_nodes, output_nodes, epochs, batch_size, future_steps, scaler):\n",
        "    data = scaler.transform(data)\n",
        "    X_train, y_train, input_seq_for_test_FNN = preprocess_FNN(data, look_back)\n",
        "    X_train, y_train = reshape_arrays(X_train, y_train)\n",
        "\n",
        "    model_FNN = create_NN(input_nodes=look_back, hidden_nodes=hidden_nodes, output_nodes=output_nodes)\n",
        "    model_FNN = train_model(model_FNN, X_train, y_train, epochs, batch_size)\n",
        "\n",
        "    input_seq_for_test_FNN = np.reshape(input_seq_for_test_FNN, (1, len(input_seq_for_test_FNN)))\n",
        "    forecasted_values_FNN = forecast_FNN(model_FNN, input_sequence=input_seq_for_test_FNN, future_steps=future_steps)\n",
        "    \n",
        "    forecasted_values_FNN = list(scaler.inverse_transform([forecasted_values_FNN])[0])\n",
        "    \n",
        "    return model_FNN, forecasted_values_FNN"
      ],
      "execution_count": 29,
      "outputs": []
    },
    {
      "cell_type": "markdown",
      "metadata": {
        "_uuid": "07ac69b80399474d1c4b731c396ca91284f01d66",
        "id": "d6YwJdpiZVNj"
      },
      "source": [
        "### FNN - Get scores on test data"
      ]
    },
    {
      "cell_type": "code",
      "metadata": {
        "_uuid": "43996ce8a01a80956b787ca739485b8c449f9589",
        "id": "qtdhNRV5ZVNj"
      },
      "source": [
        "def get_accuracies_FNN(rainfall_data, test_rainfall_data, parameters, scaler):\n",
        "    combination_of_params = get_combinations(parameters)\n",
        "    information_FNN = []\n",
        "    iterator = 0\n",
        "    print('FNN - Number of combinations: ' + str(len(combination_of_params)))\n",
        "    \n",
        "    for param in combination_of_params:\n",
        "        if (iterator+1) != len(combination_of_params):\n",
        "            print(iterator+1, end=' -> ')\n",
        "        else:\n",
        "            print(iterator+1)\n",
        "        iterator = iterator+1\n",
        "\n",
        "        look_back = param[0]\n",
        "        hidden_nodes = param[1]\n",
        "        output_nodes = param[2]\n",
        "        epochs = param[3]\n",
        "        batch_size = param[4]\n",
        "        future_steps = param[5]\n",
        "\n",
        "        model_FNN, forecasted_values_FNN = FNN(rainfall_data, look_back, hidden_nodes, output_nodes, epochs, batch_size, future_steps, scaler)\n",
        "        \n",
        "        y_true = test_rainfall_data.ix[:future_steps].Adj_Close\n",
        "        mse, mae, mape, rmse = calculate_performance(y_true, forecasted_values_FNN)\n",
        "        \n",
        "        info = list(param) + [mse, mae, rmse] + forecasted_values_FNN\n",
        "        information_FNN.append(info)\n",
        "\n",
        "    information_FNN_df = pd.DataFrame(information_FNN)\n",
        "    indexes = [str(i) for i in list(range(1, future_steps+1))]\n",
        "    information_FNN_df.columns = ['look_back', 'hidden_nodes', 'output_nodes', 'epochs', 'batch_size', 'future_steps', 'MSE', 'MAE', 'RMSE'] + indexes\n",
        "    return information_FNN_df"
      ],
      "execution_count": 34,
      "outputs": []
    },
    {
      "cell_type": "markdown",
      "metadata": {
        "_uuid": "e7a16386c2dfd9d4efd8eab17180bc70429c9ba8",
        "id": "qzrhdPgyZVNk"
      },
      "source": [
        "### TLNN - Preprocess data: Convert time series into suitable format"
      ]
    },
    {
      "cell_type": "code",
      "metadata": {
        "_uuid": "67be29c9657b680ca849aaa05978971730664a31",
        "id": "mR_zvYgnZVNk"
      },
      "source": [
        "def preprocess_TLNN(data, time_lagged_points):\n",
        "    data = np.array(data)[:, 0]\n",
        "    X_train = []\n",
        "    y_train = []\n",
        "    for i in range(max(time_lagged_points), data.shape[0]):\n",
        "        x = [data[i-p] for p in time_lagged_points]\n",
        "        y = data[i]\n",
        "        X_train.append(list(x))\n",
        "        y_train.append(y)\n",
        "    input_seq_for_test = [data[i+1-p] for p in time_lagged_points]\n",
        "    return X_train, y_train, input_seq_for_test"
      ],
      "execution_count": 35,
      "outputs": []
    },
    {
      "cell_type": "markdown",
      "metadata": {
        "_uuid": "0701a3ffd8010abe88ffcec7c28859c887ce7e89",
        "id": "3UveVyLjZVNk"
      },
      "source": [
        "### TLNN - Forecast next 'n' timesteps"
      ]
    },
    {
      "cell_type": "code",
      "metadata": {
        "_uuid": "83e4b82735a6f05e9175ee3ee9c615b870de9099",
        "id": "Ueu7lJI0ZVNk"
      },
      "source": [
        "def forecast_TLNN(model, time_lagged_points, last_sequence, future_steps):\n",
        "    forecasted_values = []\n",
        "    max_lag = max(time_lagged_points)\n",
        "    for i in range(future_steps):\n",
        "        input_sequence = [last_sequence[max_lag - p] for p in time_lagged_points]\n",
        "        input_sequence = np.asarray(input_sequence).astype(np.float32)\n",
        "\n",
        "        forecasted_value = model.predict(np.reshape(input_sequence, (1, len(input_sequence))))\n",
        "        forecasted_values.append(forecasted_value[0][0])\n",
        "        last_sequence = last_sequence[1:] + [forecasted_value[0][0]]\n",
        "    return forecasted_values"
      ],
      "execution_count": 36,
      "outputs": []
    },
    {
      "cell_type": "markdown",
      "metadata": {
        "_uuid": "a1dd106f6a5ecafea44984bdff9c1395055d4ac0",
        "id": "NBr5WHogZVNk"
      },
      "source": [
        "### Time Lagged Neural Networks"
      ]
    },
    {
      "cell_type": "code",
      "metadata": {
        "_uuid": "a72099fb190931b29ba45d54534597e269e37c0a",
        "id": "_RRkDngwZVNk"
      },
      "source": [
        "def TLNN(data, time_lagged_points, hidden_nodes, output_nodes, epochs, batch_size, future_steps, scaler):\n",
        "    data = scaler.transform(data)\n",
        "    X_train, y_train, input_seq_for_test_TLNN = preprocess_TLNN(data, time_lagged_points)\n",
        "    X_train, y_train = reshape_arrays(X_train, y_train)\n",
        "    model_TLNN = create_NN(input_nodes=len(time_lagged_points), hidden_nodes=hidden_nodes, output_nodes=output_nodes)\n",
        "    model_TLNN = train_model(model_TLNN, X_train, y_train, epochs, batch_size)\n",
        "\n",
        "    max_lag = max(time_lagged_points)\n",
        "    forecasted_values_TLNN = forecast_TLNN(model_TLNN, time_lagged_points, \n",
        "                                      list(data[-max_lag:]), future_steps=future_steps)\n",
        "    forecasted_values_TLNN = list(scaler.inverse_transform([forecasted_values_TLNN])[0])\n",
        "    \n",
        "    return model_TLNN, forecasted_values_TLNN"
      ],
      "execution_count": 37,
      "outputs": []
    },
    {
      "cell_type": "markdown",
      "metadata": {
        "_uuid": "405e93c0ec1b7ecef825e37844feef1d40929982",
        "id": "jQiwMn_YZVNl"
      },
      "source": [
        "### TLNN - Get scores on test data"
      ]
    },
    {
      "cell_type": "code",
      "metadata": {
        "_uuid": "b1f883b5dd3ba6922d993982ae9b8618297fe69a",
        "id": "bfbRrVRQZVNl"
      },
      "source": [
        "def get_accuracies_TLNN(rainfall_data, test_rainfall_data, parameters, scaler):\n",
        "    combination_of_params = get_combinations(parameters)\n",
        "    information_TLNN = []\n",
        "    iterator = 0\n",
        "    print('TLNN - Number of combinations: ' + str(len(combination_of_params)))\n",
        "    \n",
        "    for param in combination_of_params:\n",
        "        if (iterator+1) != len(combination_of_params):\n",
        "            print(iterator+1, end=' -> ')\n",
        "        else:\n",
        "            print(iterator+1)\n",
        "        iterator = iterator+1\n",
        "\n",
        "        time_lagged_points = param[0]\n",
        "        hidden_nodes = param[1]\n",
        "        output_nodes = param[2]\n",
        "        epochs = param[3]\n",
        "        batch_size = param[4]\n",
        "        future_steps = param[5]\n",
        "\n",
        "        model_TLNN, forecasted_values_TLNN = TLNN(rainfall_data, time_lagged_points, hidden_nodes, output_nodes, epochs, batch_size, future_steps, scaler)\n",
        "        \n",
        "        y_true = test_rainfall_data.ix[:future_steps].Adj_Close\n",
        "        mse, mae, mape, rmse = calculate_performance(y_true, forecasted_values_TLNN)\n",
        "        \n",
        "        info = list(param) + [mse, mae, rmse] + forecasted_values_TLNN\n",
        "        information_TLNN.append(info)\n",
        "\n",
        "    information_TLNN_df = pd.DataFrame(information_TLNN)\n",
        "    indexes = [str(i) for i in list(range(1, future_steps+1))]\n",
        "    information_TLNN_df.columns = ['look_back_lags', 'hidden_nodes', 'output_nodes', 'epochs', 'batch_size', 'future_steps', 'MSE', 'MAE', 'RMSE'] + indexes\n",
        "    return information_TLNN_df"
      ],
      "execution_count": 38,
      "outputs": []
    },
    {
      "cell_type": "code",
      "metadata": {
        "_uuid": "e6535e18f2158d7a962836a4324a8365517fc74f",
        "id": "_ZGMdusjZVNo"
      },
      "source": [
        "def analyze_results(data_frame, test_rainfall_data, name, flag=False):\n",
        "    optimized_params = data_frame.iloc[data_frame.RMSE.argmin]\n",
        "    future_steps = optimized_params.future_steps\n",
        "    forecast_values = optimized_params[-1*int(future_steps):]\n",
        "    y_true = test_rainfall_data.ix[:int(future_steps)]\n",
        "    forecast_values.index = y_true.index\n",
        "    \n",
        "    print('=== Best parameters of ' + name + ' ===\\n')\n",
        "    if (name == 'FNN' or name == 'LSTM'):\n",
        "        model = create_NN(optimized_params.look_back, \n",
        "                          optimized_params.hidden_nodes, \n",
        "                          optimized_params.output_nodes)\n",
        "        print('Input nodes(p): ' + str(optimized_params.look_back))\n",
        "        print('Hidden nodes: ' + str(optimized_params.hidden_nodes))\n",
        "        print('Output nodes: ' + str(optimized_params.output_nodes))\n",
        "    elif (name == 'TLNN'):\n",
        "        model = create_NN(len(optimized_params.look_back_lags), \n",
        "                          optimized_params.hidden_nodes, \n",
        "                          optimized_params.output_nodes)\n",
        "        s = ''\n",
        "        for i in optimized_params.look_back_lags:\n",
        "            s = s+' '+str(i)\n",
        "        print('Look back lags: ' + s)\n",
        "        print('Hidden nodes: ' + str(optimized_params.hidden_nodes))\n",
        "        print('Output nodes: ' + str(optimized_params.output_nodes))\n",
        "    elif (name == 'SANN'):\n",
        "        model = create_NN(optimized_params.seasonal_period, \n",
        "                          optimized_params.hidden_nodes, \n",
        "                          optimized_params.seasonal_period)\n",
        "        print('Input nodes(s): ' + str(optimized_params.seasonal_period))\n",
        "        print('Hidden nodes: ' + str(optimized_params.hidden_nodes))\n",
        "        print('Output nodes: ' + str(optimized_params.seasonal_period))\n",
        "        \n",
        "    print('Number of epochs: ' + str(optimized_params.epochs))\n",
        "    print('Batch size: ' + str(optimized_params.batch_size))\n",
        "    print('Number of future steps forecasted: ' + str(optimized_params.future_steps))\n",
        "    print('Mean Squared Error(MSE): ' + str(optimized_params.MSE))\n",
        "    print('Mean Absolute Error(MAE): ' + str(optimized_params.MAE))\n",
        "    print('Root Mean Squared Error(RMSE): ' + str(optimized_params.RMSE))\n",
        "    print('\\n\\n')\n",
        "    \n",
        "    # Save model\n",
        "    # from keras.utils import plot_model\n",
        "    # plot_model(model, to_file = STORAGE_FOLDER + name + '_best_fit_model.png', show_shapes=True, show_layer_names=True)\n",
        "    \n",
        "    # Save data\n",
        "    # data_frame.to_csv(STORAGE_FOLDER + name + '_information.csv')\n",
        "    # optimized_params.to_csv(STORAGE_FOLDER + name + '_optimized_values.csv')\n",
        "    \n",
        "    plt.figure(figsize=(10,5))\n",
        "    plt.plot(y_true, color='green', label='Actual values')\n",
        "    plt.plot(forecast_values, color='red', label='Forecasted values')\n",
        "    plt.xlabel('Year')\n",
        "    plt.ylabel('Monthly mean Sum')\n",
        "    plt.legend(loc='best')\n",
        "    if (flag==False):\n",
        "        plt.title(name + ' - Comaprison: Actual vs Forecasted')\n",
        "        # plt.savefig(STORAGE_FOLDER + name + '_best_forecast'  + '.png')\n",
        "    else:\n",
        "        plt.title('Best of all: ' + name + ' - Comaprison: Actual vs Forecasted')\n",
        "        # plt.savefig(STORAGE_FOLDER + 'BEST_FORECAST_' + name + '.png')\n",
        "    \n",
        "    return optimized_params"
      ],
      "execution_count": 48,
      "outputs": []
    },
    {
      "cell_type": "markdown",
      "metadata": {
        "_uuid": "41b97714378fcc23d47215dcf59deddb668c16cd",
        "id": "EDy1kk_tZVNp"
      },
      "source": [
        "## Pick the best method"
      ]
    },
    {
      "cell_type": "code",
      "metadata": {
        "_uuid": "bd5df8193e77f6245fdd0d95a1bc0add64c30084",
        "id": "_J8IEeN6ZVNp"
      },
      "source": [
        "def best_of_all(list_of_methods):\n",
        "    RMSE_values = [x.RMSE for x in list_of_methods]\n",
        "    index = np.argmin(RMSE_values)\n",
        "    if (index==0):\n",
        "        name = 'FNN'\n",
        "    elif (index == 1):\n",
        "        name = 'TLNN'\n",
        "    elif (index == 2):\n",
        "        name = 'SANN'\n",
        "    else:\n",
        "        name = 'LSTM'\n",
        "    print(RMSE_values)\n",
        "    \n",
        "    names = ['FNN', 'TLNN', 'SANN', 'LSTM']\n",
        "    RMSE_info = pd.Series(RMSE_values, index=names)\n",
        "    \n",
        "    print('Overall Best method on this data is ' + name)\n",
        "    return index, name, RMSE_info"
      ],
      "execution_count": 49,
      "outputs": []
    },
    {
      "cell_type": "markdown",
      "metadata": {
        "_uuid": "ee9672822df9ca62ad6a5d2a492483a77abaa870",
        "id": "iFDRFr2YZVNp"
      },
      "source": [
        "## Compare the results of above algorithms based on RMSE score.\n",
        "- Plots a bar plot comparing the scores of different algorithms."
      ]
    },
    {
      "cell_type": "code",
      "metadata": {
        "_uuid": "a76eb3e460e9fe0f4254d1790aece199bef06c90",
        "id": "QqGmQ6i1ZVNp"
      },
      "source": [
        "def compare_ANN_methods(rainfall_data, test_rainfall_data, scaler, parameters_FNN, parameters_TLNN, parameters_SANN, parameters_LSTM, future_steps):\n",
        "    \n",
        "    information_FNN_df = get_accuracies_FNN(rainfall_data, test_rainfall_data, parameters_FNN, scaler)\n",
        "    optimized_params_FNN = analyze_results(information_FNN_df, test_rainfall_data, 'FNN')\n",
        "    \n",
        "    information_TLNN_df = get_accuracies_TLNN(rainfall_data, test_rainfall_data, parameters_TLNN, scaler)\n",
        "    optimized_params_TLNN = analyze_results(information_TLNN_df, test_rainfall_data, 'TLNN')\n",
        "    \n",
        "    information_SANN_df = get_accuracies_SANN(rainfall_data, test_rainfall_data, parameters_SANN, scaler)\n",
        "    optimized_params_SANN = analyze_results(information_SANN_df, test_rainfall_data, 'SANN')\n",
        "    \n",
        "    information_LSTM_df = get_accuracies_LSTM(rainfall_data, test_rainfall_data, parameters_LSTM, scaler)\n",
        "    optimized_params_LSTM = analyze_results(information_LSTM_df, test_rainfall_data, 'LSTM')\n",
        "    \n",
        "    list_of_methods = [optimized_params_FNN, optimized_params_TLNN, optimized_params_SANN, optimized_params_LSTM]\n",
        "    information = [information_FNN_df, information_TLNN_df, information_SANN_df, information_LSTM_df]\n",
        "    index, name, RMSE_info = best_of_all(list_of_methods)\n",
        "    best_optimized_params = analyze_results(information[index], test_rainfall_data, name, True)\n",
        "    return RMSE_info"
      ],
      "execution_count": 50,
      "outputs": []
    },
    {
      "cell_type": "markdown",
      "metadata": {
        "_uuid": "4963a4fd67fd013dd80b07e86bea1ee34215cbc1",
        "id": "JucUQjLIZVNp"
      },
      "source": [
        "## Number of future steps to be forecasted"
      ]
    },
    {
      "cell_type": "code",
      "metadata": {
        "_uuid": "37c0c448b7a985d16d3e082901c33cdd17bdb14c",
        "id": "bFjYHPooZVNp"
      },
      "source": [
        "future_steps = 60"
      ],
      "execution_count": 53,
      "outputs": []
    },
    {
      "cell_type": "markdown",
      "metadata": {
        "_uuid": "57396337a4a3e3ee63c44635b4e0e0b9dedc485e",
        "id": "5nKKgJTjZVNp"
      },
      "source": [
        "## Initialize all the parameters\n",
        "- It tries all the combinations of different parameters and selects the optimal parmaters based on the RMSE scores.\n",
        "- It also finds the best method for this data."
      ]
    },
    {
      "cell_type": "code",
      "metadata": {
        "id": "ZHZ1aTsFdmFK"
      },
      "source": [
        "from tensorflow.keras.utils import plot_model"
      ],
      "execution_count": 51,
      "outputs": []
    },
    {
      "cell_type": "code",
      "metadata": {
        "_uuid": "1b8e71c8477d6b70ee988412d3ec0bf59179a63a",
        "colab": {
          "base_uri": "https://localhost:8080/",
          "height": 1000
        },
        "id": "gDuv86mpZVNp",
        "outputId": "b9aa31be-d42e-4bef-9a9d-7f0cdac81a03"
      },
      "source": [
        "# look_back, hidden_nodes, output_nodes, epochs, batch_size, future_steps\n",
        "parameters_FNN = [[1,2,3,6,8,10,12], [3,4,5,6], [1], [500], [20], [future_steps]]\n",
        "\n",
        "# time_lagged_points, hidden_nodes, output_nodes, epochs, batch_size, future_steps\n",
        "parameters_TLNN = [[[1,2,3,11,12], [1,2,3,4,11,12], [1,2,3,11,12,13], [1,2,3,4,5,6,10,11,12]], [3,4,5,6], [1], [300], [20], [future_steps]]\n",
        "\n",
        "# seasonal_period, hidden_nodes, epochs, batch_size, future_steps\n",
        "parameters_SANN = [[12], [3,4,5,6,7,8,9,10], [500], [20], [future_steps]]\n",
        "\n",
        "# look_back, hidden_nodes, output_nodes, epochs, batch_size, future_steps\n",
        "parameters_LSTM = [[1,2,3,4,5,6,7,8,9,10,11,12,13], [3,4,5,6], [1], [300], [20], [future_steps]]\n",
        "\n",
        "RMSE_info = compare_ANN_methods(data_train, data_test, scaler, \n",
        "                    parameters_FNN, parameters_TLNN, parameters_SANN, parameters_LSTM, future_steps)"
      ],
      "execution_count": 61,
      "outputs": [
        {
          "output_type": "stream",
          "name": "stdout",
          "text": [
            "FNN - Number of combinations: 28\n",
            "1 -> 2 -> 3 -> 4 -> 5 -> 6 -> 7 -> 8 -> 9 -> 10 -> 11 -> 12 -> 13 -> 14 -> 15 -> 16 -> 17 -> 18 -> 19 -> 20 -> 21 -> 22 -> 23 -> 24 -> 25 -> 26 -> 27 -> 28\n",
            "=== Best parameters of FNN ===\n",
            "\n",
            "Input nodes(p): 6.0\n",
            "Hidden nodes: 4.0\n",
            "Output nodes: 1.0\n",
            "Number of epochs: 500.0\n",
            "Batch size: 20.0\n",
            "Number of future steps forecasted: 60.0\n",
            "Mean Squared Error(MSE): 213.659\n",
            "Mean Absolute Error(MAE): 11.992\n",
            "Root Mean Squared Error(RMSE): 14.617\n",
            "\n",
            "\n",
            "\n",
            "TLNN - Number of combinations: 16\n",
            "1 -> 2 -> 3 -> 4 -> 5 -> 6 -> 7 -> 8 -> 9 -> 10 -> 11 -> 12 -> 13 -> 14 -> 15 -> 16\n",
            "=== Best parameters of TLNN ===\n",
            "\n",
            "Look back lags:  1 2 3 11 12\n",
            "Hidden nodes: 3\n",
            "Output nodes: 1\n",
            "Number of epochs: 300\n",
            "Batch size: 20\n",
            "Number of future steps forecasted: 60\n",
            "Mean Squared Error(MSE): 252.781\n",
            "Mean Absolute Error(MAE): 13.665\n",
            "Root Mean Squared Error(RMSE): 15.899\n",
            "\n",
            "\n",
            "\n",
            "SANN - Number of combinations: 8\n",
            "1 -> 2 -> 3 -> 4 -> 5 -> 6 -> 7 -> 8\n",
            "=== Best parameters of SANN ===\n",
            "\n",
            "Input nodes(s): 12.0\n",
            "Hidden nodes: 3.0\n",
            "Output nodes: 12.0\n",
            "Number of epochs: 500.0\n",
            "Batch size: 20.0\n",
            "Number of future steps forecasted: 60.0\n",
            "Mean Squared Error(MSE): 413.548\n",
            "Mean Absolute Error(MAE): 16.654\n",
            "Root Mean Squared Error(RMSE): 20.336\n",
            "\n",
            "\n",
            "\n",
            "LSTM - Number of combinations: 52\n",
            "1 -> 2 -> 3 -> 4 -> 5 -> 6 -> 7 -> 8 -> 9 -> 10 -> 11 -> 12 -> 13 -> 14 -> 15 -> 16 -> 17 -> 18 -> 19 -> 20 -> 21 -> 22 -> 23 -> 24 -> 25 -> 26 -> 27 -> 28 -> 29 -> 30 -> 31 -> 32 -> 33 -> 34 -> 35 -> 36 -> 37 -> 38 -> 39 -> 40 -> 41 -> 42 -> 43 -> 44 -> 45 -> 46 -> 47 -> 48 -> 49 -> 50 -> 51 -> 52\n",
            "=== Best parameters of LSTM ===\n",
            "\n",
            "Input nodes(p): 10.0\n",
            "Hidden nodes: 4.0\n",
            "Output nodes: 1.0\n",
            "Number of epochs: 300.0\n",
            "Batch size: 20.0\n",
            "Number of future steps forecasted: 60.0\n",
            "Mean Squared Error(MSE): 188.666\n",
            "Mean Absolute Error(MAE): 11.417\n",
            "Root Mean Squared Error(RMSE): 13.736\n",
            "\n",
            "\n",
            "\n",
            "[14.617, 15.899, 20.336, 13.736]\n",
            "Overall Best method on this data is LSTM\n",
            "=== Best parameters of LSTM ===\n",
            "\n",
            "Input nodes(p): 10.0\n",
            "Hidden nodes: 4.0\n",
            "Output nodes: 1.0\n",
            "Number of epochs: 300.0\n",
            "Batch size: 20.0\n",
            "Number of future steps forecasted: 60.0\n",
            "Mean Squared Error(MSE): 188.666\n",
            "Mean Absolute Error(MAE): 11.417\n",
            "Root Mean Squared Error(RMSE): 13.736\n",
            "\n",
            "\n",
            "\n"
          ]
        },
        {
          "output_type": "display_data",
          "data": {
            "image/png": "[encoded data removed]",
            "text/plain": [
              "<Figure size 720x360 with 1 Axes>"
            ]
          },
          "metadata": {
            "needs_background": "light"
          }
        },
        {
          "output_type": "display_data",
          "data": {
            "image/png": "[encoded data removed]",
            "text/plain": [
              "<Figure size 720x360 with 1 Axes>"
            ]
          },
          "metadata": {
            "needs_background": "light"
          }
        },
        {
          "output_type": "display_data",
          "data": {
            "image/png": "[encoded data removed]",
            "text/plain": [
              "<Figure size 720x360 with 1 Axes>"
            ]
          },
          "metadata": {
            "needs_background": "light"
          }
        },
        {
          "output_type": "display_data",
          "data": {
            "image/png": "[encoded data removed]",
            "text/plain": [
              "<Figure size 720x360 with 1 Axes>"
            ]
          },
          "metadata": {
            "needs_background": "light"
          }
        },
        {
          "output_type": "display_data",
          "data": {
            "image/png": "[encoded data removed]",
            "text/plain": [
              "<Figure size 720x360 with 1 Axes>"
            ]
          },
          "metadata": {
            "needs_background": "light"
          }
        }
      ]
    },
    {
      "cell_type": "code",
      "metadata": {
        "_uuid": "f5b65012af324feced221399da5650fce5f0396f",
        "colab": {
          "base_uri": "https://localhost:8080/"
        },
        "id": "Dq1V81omZVNq",
        "outputId": "044ff630-59da-425e-e358-0d2b923c5f69"
      },
      "source": [
        "RMSE_info"
      ],
      "execution_count": 62,
      "outputs": [
        {
          "output_type": "execute_result",
          "data": {
            "text/plain": [
              "FNN     14.617\n",
              "TLNN    15.899\n",
              "SANN    20.336\n",
              "LSTM    13.736\n",
              "dtype: float64"
            ]
          },
          "metadata": {},
          "execution_count": 62
        }
      ]
    },
    {
      "cell_type": "markdown",
      "metadata": {
        "_uuid": "576cf93b082e01a1cb9c3ac2a2644701836b7cef",
        "id": "fQvNaM9YZVNq"
      },
      "source": [
        "## Plot RMSE scores"
      ]
    },
    {
      "cell_type": "code",
      "metadata": {
        "_uuid": "fc426591b746369dd8d9527462fb4f2e3bd2e62e",
        "colab": {
          "base_uri": "https://localhost:8080/",
          "height": 336
        },
        "id": "Gynvp_-XZVNq",
        "outputId": "0f7a6c9a-2740-4150-81a3-f04bd1b81d6f"
      },
      "source": [
        "ax = RMSE_info.plot(kind='bar', figsize=(10,5), rot=0, title='RMSE scores')\n",
        "\n",
        "for p in ax.patches:\n",
        "    ax.annotate(np.round(p.get_height(),decimals=2), \n",
        "                (p.get_x()+p.get_width()/2., p.get_height()), \n",
        "                ha='center', va='center', xytext=(0, 10), \n",
        "                textcoords='offset points', fontsize=14, color='black')"
      ],
      "execution_count": 63,
      "outputs": [
        {
          "output_type": "display_data",
          "data": {
            "image/png": "[encoded data removed]",
            "text/plain": [
              "<Figure size 720x360 with 1 Axes>"
            ]
          },
          "metadata": {
            "needs_background": "light"
          }
        }
      ]
    },
    {
      "cell_type": "markdown",
      "metadata": {
        "_uuid": "1e7e9463ea89d69ee333cf8f5c33e0c894aac689",
        "id": "zlEZsB0nZVNq"
      },
      "source": [
        "- If we compare the results, LSTM worked better than all the methods on this data."
      ]
    }
  ]
}